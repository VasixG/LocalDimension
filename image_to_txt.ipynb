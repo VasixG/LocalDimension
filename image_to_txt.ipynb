{
 "cells": [
  {
   "cell_type": "code",
   "execution_count": 3,
   "id": "1ed358e2",
   "metadata": {},
   "outputs": [
    {
     "name": "stdout",
     "output_type": "stream",
     "text": [
      "254.97449999999998\n"
     ]
    }
   ],
   "source": [
    "from PIL import Image\n",
    "import numpy as np\n",
    "\n",
    "def rgb2gray(rgb):\n",
    "    return np.dot(rgb[...,:3], [0.2989, 0.5870, 0.1140])\n",
    "\n",
    "input_2d = rgb2gray( np.array(Image.open('mona_liza.jpg')))\n",
    "print(input_2d[0][0])"
   ]
  },
  {
   "cell_type": "code",
   "execution_count": 4,
   "id": "17d0b90d",
   "metadata": {},
   "outputs": [],
   "source": [
    "f = open('momna_liza.txt', 'w')\n",
    "for i in range(len(input_2d)):\n",
    "    for j in range(len(input_2d[0])):\n",
    "        if input_2d[i][j] < 230:\n",
    "            f.write(f'{i} {j}\\n')\n",
    "f.close()"
   ]
  },
  {
   "cell_type": "code",
   "execution_count": null,
   "id": "b1947698",
   "metadata": {},
   "outputs": [],
   "source": []
  }
 ],
 "metadata": {
  "kernelspec": {
   "display_name": "Python 3 (ipykernel)",
   "language": "python",
   "name": "python3"
  },
  "language_info": {
   "codemirror_mode": {
    "name": "ipython",
    "version": 3
   },
   "file_extension": ".py",
   "mimetype": "text/x-python",
   "name": "python",
   "nbconvert_exporter": "python",
   "pygments_lexer": "ipython3",
   "version": "3.10.5"
  }
 },
 "nbformat": 4,
 "nbformat_minor": 5
}
